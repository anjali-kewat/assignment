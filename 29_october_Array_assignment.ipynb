{
 "cells": [
  {
   "cell_type": "code",
   "execution_count": 1,
   "id": "90ec00e9-113d-496c-a61a-4949ac4468a0",
   "metadata": {},
   "outputs": [
    {
     "name": "stdout",
     "output_type": "stream",
     "text": [
      "True\n",
      "[5, 6, 7, 1, 2, 3, 4]\n",
      "[12, 9, 7, 5, 4, 2]\n",
      "20\n",
      "[1, 2, 3, 4, 5]\n"
     ]
    }
   ],
   "source": [
    "\n",
    "#1 . Given an array, check if it contains any duplicates or not. \n",
    "arr = [1, 2, 4,  2 , 5, 9] \n",
    "\n",
    "def contains_duplicate(arr):\n",
    "    dup = set()\n",
    "    for num in arr:\n",
    "        if num in dup:\n",
    "            return True\n",
    "        dup.add(num)\n",
    "    return False\n",
    "\n",
    "result = contains_duplicate(arr)\n",
    "print(result)\n",
    "\n",
    "#2 .Given an array and an integer k, rotate the array to the right by k steps. \n",
    "\n",
    "\n",
    "def rotate_arr(arr,k):\n",
    "\n",
    "    k = k%len(arr)\n",
    "\n",
    "    rotated_arr = arr[-k:] +arr[:-k]\n",
    "    return rotated_arr\n",
    "\n",
    "arr = [1, 2, 3, 4, 5, 6, 7] \n",
    "k = 3\n",
    "result = rotate_arr(arr,k)\n",
    "print(result)\n",
    "\n",
    "#3 Reverse the given array in-place, means without using any extra data structure. \n",
    "\n",
    "def  reverse_arr(arr):\n",
    "    start =0\n",
    "    end = len(arr) -1\n",
    "\n",
    "    while start<end:\n",
    "        arr[start],arr[end] = arr[end],arr[start]\n",
    "        start+=1\n",
    "        end-=1\n",
    "\n",
    "arr = [2,4,5,7,9,12]\n",
    "reverse_arr(arr)\n",
    "print(arr)\n",
    "\n",
    "#4. Given an array of integers, find the maximum element in an array\n",
    "arr = [10, 5, 20, 8, 15]\n",
    "\n",
    "max_element = arr[0]\n",
    "\n",
    "for num in arr:\n",
    "    if num>max_element:\n",
    "        max_element = num \n",
    "\n",
    "print(max_element)\n",
    "\n",
    "#5 Given a sorted array, remove the duplicate element without using any extra data structure. \n",
    "\n",
    "def remove_duplicates(arr):\n",
    "    if not arr:\n",
    "        return 0\n",
    "    \n",
    "    unique_index = 1 \n",
    "\n",
    "    for i in range(1,len(arr)):\n",
    "        if arr[i] != arr[i-1]:\n",
    "             arr[unique_index] = arr[i]\n",
    "             unique_index +=1\n",
    "\n",
    "    return unique_index\n",
    "arr = [1, 1, 2, 2, 2, 3, 3, 4, 4, 4, 5, 5] \n",
    "result = remove_duplicates(arr)\n",
    "print(arr[:result])"
   ]
  },
  {
   "cell_type": "code",
   "execution_count": null,
   "id": "8383f0eb-3353-407f-b37c-3e491845aa01",
   "metadata": {},
   "outputs": [],
   "source": []
  }
 ],
 "metadata": {
  "kernelspec": {
   "display_name": "Python 3 (ipykernel)",
   "language": "python",
   "name": "python3"
  },
  "language_info": {
   "codemirror_mode": {
    "name": "ipython",
    "version": 3
   },
   "file_extension": ".py",
   "mimetype": "text/x-python",
   "name": "python",
   "nbconvert_exporter": "python",
   "pygments_lexer": "ipython3",
   "version": "3.10.8"
  }
 },
 "nbformat": 4,
 "nbformat_minor": 5
}
