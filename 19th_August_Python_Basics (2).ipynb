{
 "cells": [
  {
   "cell_type": "code",
   "execution_count": 6,
   "id": "d1d3c73d-7eb9-4dc6-abae-ea135a915f36",
   "metadata": {},
   "outputs": [
    {
     "name": "stdout",
     "output_type": "stream",
     "text": [
      "after swapping :x =  5 y =  3\n"
     ]
    },
    {
     "name": "stdin",
     "output_type": "stream",
     "text": [
      "enter the lengt of rectangle :  2\n",
      "enter the bredth of rectangle : 4\n"
     ]
    },
    {
     "name": "stdout",
     "output_type": "stream",
     "text": [
      "Area of rectangle is  8\n"
     ]
    },
    {
     "name": "stdin",
     "output_type": "stream",
     "text": [
      "Enter the temperature in celsius: 90\n"
     ]
    },
    {
     "name": "stdout",
     "output_type": "stream",
     "text": [
      "farenheit temperature is : 194.0\n"
     ]
    },
    {
     "name": "stdin",
     "output_type": "stream",
     "text": [
      "Enter the string : hrty\n"
     ]
    },
    {
     "name": "stdout",
     "output_type": "stream",
     "text": [
      "length of string is  4\n"
     ]
    },
    {
     "name": "stdin",
     "output_type": "stream",
     "text": [
      "hey please type a  sentence : hrtuu\n"
     ]
    },
    {
     "name": "stdout",
     "output_type": "stream",
     "text": [
      "number of vowels are :\n",
      "2\n",
      "the original string is : assignment\n",
      "tnemngissa\n"
     ]
    },
    {
     "name": "stdin",
     "output_type": "stream",
     "text": [
      "enter  the string : ram\n"
     ]
    },
    {
     "name": "stdout",
     "output_type": "stream",
     "text": [
      "mar is not palindrome string\n"
     ]
    },
    {
     "name": "stdin",
     "output_type": "stream",
     "text": [
      "enter the string : ram ram\n"
     ]
    },
    {
     "name": "stdout",
     "output_type": "stream",
     "text": [
      "ramram\n"
     ]
    }
   ],
   "source": [
    "#Python Basics variable \n",
    "#question 1  ----> swapping values witout using temporary variable\n",
    "x = 3 \n",
    "y = 5\n",
    "x = x+y  # x = 8 ;  here 3 + 5 = 8 \n",
    "y = x-y  # y =3  ;  here y value is changed to 3 \n",
    "x = x-y  # x = 5  :  here x is changed to 5\n",
    "\n",
    "print(\"after swapping :x = \",x , \"y = \",y)     # the value of x and y is swapped .\n",
    "\n",
    "\n",
    "# quesion 2 ----->  calculate area of triangle \n",
    "\n",
    "length = int(input(\"enter the lengt of rectangle : \"))     # Taking length as a input from user \n",
    "bredth = int(input(\"enter the bredth of rectangle :\"))    #Taking bredth as a input from user \n",
    "area = length * bredth                                    # applying the formulae of area of rectangle \n",
    "print(\"Area of rectangle is \",area)                       # printing the output using print statement \n",
    "\n",
    "#question 3 ----->\n",
    "\n",
    "tempreture = int(input(\"Enter the temperature in celsius:\"))    # temp variable take degree celcius as input\n",
    "ferhenheit = tempreture*9/5+32                                  # taking variable name as farhenheit and applying the formulae to change degree celcius to fehrenheit .\n",
    "print(\"farenheit temperature is :\",ferhenheit)                  #printing the output using print statement \n",
    "\n",
    "# string based quewtions\n",
    "#question1 ----> take a string as an input and print the length.\n",
    "\n",
    "a = input(\"Enter the string :\")                                #a is a variable which takes input as a string from user\n",
    "print(\"length of string is \",len(a))                           #len(a) this function return the length of the string which user had entered.\n",
    "\n",
    "#question 2 ------> takes a sentence from user and count the no. of vowels\n",
    "\n",
    "user = input(\"hey please type a  sentence :\")        #user variable take input as a string \n",
    "vowels = 0                                           #initializing vowels to 0 \n",
    "for i in user:                                       #here using for condition \n",
    "    if(i==\"a\"or i==\"e\"or i==\"i\"or i ==\"o\" or i==\"u\" or i ==\"A\"or i==\"E\"or i==\"I\"or i==\"O\"or i==\"U\"):   # here if i = a,i,e,o,u,A,E,I,O,U if any of the value is satisfied thenn\n",
    "        vowels = vowels+1                                                                              #vowel which is initially 0 is added to 1 .\n",
    "print(\"number of vowels are :\")                                                                        # this print statement count the number of vowel occurs in the sentence \n",
    "print(vowels)\n",
    "\n",
    "#question 3 ------> Reverse the order of string\n",
    "\n",
    "a = \"assignment\"                      #assigning value of variable a as assignment.\n",
    "print(\"the original string is :\",a)   #printing the original string\n",
    "string = print(a[::-1])               # here using [start:stop:step] string slicing as the string are immutable .\n",
    "\n",
    "#question 4 -----> CHECKING IF IT IS PALINDROME OR NOT\n",
    "\n",
    "pali = input(\"enter  the string :\")          #pali variable stores input string \n",
    "rev = pali[::-1]                             #rev take input from user and reverse the string through slicing of string \n",
    "if pali == rev:                              # if statement checks wheather the pali variable and rev variable are same or not \n",
    "    print(rev + ' ' \"is palindrome string \")     #if they are same output is palindrome string and if both string are not same then result is not palindrome string \n",
    "else:\n",
    "    print(rev + ' ' \"is not palindrome string\")\n",
    "\n",
    "\n",
    "#question 5 ------> REMOVE ALL THE WHITE SPACES FROM STRING\n",
    "\n",
    "string = input(\"enter the string :\")        # string variable takes input from user \n",
    "modified = string.replace(\" \",\"\")           #replace keyword is used to replace any character from  the user inserted string but here replace replaces the space .\n",
    "print(modified)                             # the modified string is printed "
   ]
  },
  {
   "cell_type": "code",
   "execution_count": null,
   "id": "7e60b9a7-6276-4092-9ef3-722f26887237",
   "metadata": {},
   "outputs": [],
   "source": []
  }
 ],
 "metadata": {
  "kernelspec": {
   "display_name": "Python 3 (ipykernel)",
   "language": "python",
   "name": "python3"
  },
  "language_info": {
   "codemirror_mode": {
    "name": "ipython",
    "version": 3
   },
   "file_extension": ".py",
   "mimetype": "text/x-python",
   "name": "python",
   "nbconvert_exporter": "python",
   "pygments_lexer": "ipython3",
   "version": "3.10.8"
  }
 },
 "nbformat": 4,
 "nbformat_minor": 5
}
